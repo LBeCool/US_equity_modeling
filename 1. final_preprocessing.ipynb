{
 "cells": [
  {
   "cell_type": "markdown",
   "metadata": {},
   "source": [
    "## In this notebook, we will run through some preliminary data pre-processing in Python\n",
    "We will with the equity_df variable, which is a dataframe of fundamental and price data for US equities from going back to 1995"
   ]
  },
  {
   "cell_type": "code",
   "execution_count": 1,
   "metadata": {},
   "outputs": [
    {
     "data": {
      "text/html": [
       "<div>\n",
       "<style scoped>\n",
       "    .dataframe tbody tr th:only-of-type {\n",
       "        vertical-align: middle;\n",
       "    }\n",
       "\n",
       "    .dataframe tbody tr th {\n",
       "        vertical-align: top;\n",
       "    }\n",
       "\n",
       "    .dataframe thead th {\n",
       "        text-align: right;\n",
       "    }\n",
       "</style>\n",
       "<table border=\"1\" class=\"dataframe\">\n",
       "  <thead>\n",
       "    <tr style=\"text-align: right;\">\n",
       "      <th></th>\n",
       "      <th>average_assets</th>\n",
       "      <th>average_equity</th>\n",
       "      <th>invested_capital_average</th>\n",
       "      <th>return_on_average_assets</th>\n",
       "      <th>return_on_average_equity</th>\n",
       "      <th>return_on_invested_capital</th>\n",
       "      <th>return_on_sales</th>\n",
       "    </tr>\n",
       "  </thead>\n",
       "  <tbody>\n",
       "    <tr>\n",
       "      <th>0</th>\n",
       "      <td>NaN</td>\n",
       "      <td>NaN</td>\n",
       "      <td>NaN</td>\n",
       "      <td>NaN</td>\n",
       "      <td>NaN</td>\n",
       "      <td>NaN</td>\n",
       "      <td>NaN</td>\n",
       "    </tr>\n",
       "    <tr>\n",
       "      <th>1</th>\n",
       "      <td>NaN</td>\n",
       "      <td>NaN</td>\n",
       "      <td>NaN</td>\n",
       "      <td>NaN</td>\n",
       "      <td>NaN</td>\n",
       "      <td>NaN</td>\n",
       "      <td>NaN</td>\n",
       "    </tr>\n",
       "    <tr>\n",
       "      <th>2</th>\n",
       "      <td>NaN</td>\n",
       "      <td>NaN</td>\n",
       "      <td>NaN</td>\n",
       "      <td>NaN</td>\n",
       "      <td>NaN</td>\n",
       "      <td>NaN</td>\n",
       "      <td>NaN</td>\n",
       "    </tr>\n",
       "    <tr>\n",
       "      <th>3</th>\n",
       "      <td>NaN</td>\n",
       "      <td>NaN</td>\n",
       "      <td>NaN</td>\n",
       "      <td>NaN</td>\n",
       "      <td>NaN</td>\n",
       "      <td>NaN</td>\n",
       "      <td>NaN</td>\n",
       "    </tr>\n",
       "    <tr>\n",
       "      <th>4</th>\n",
       "      <td>NaN</td>\n",
       "      <td>NaN</td>\n",
       "      <td>NaN</td>\n",
       "      <td>NaN</td>\n",
       "      <td>NaN</td>\n",
       "      <td>NaN</td>\n",
       "      <td>NaN</td>\n",
       "    </tr>\n",
       "  </tbody>\n",
       "</table>\n",
       "</div>"
      ],
      "text/plain": [
       "   average_assets  average_equity  invested_capital_average  \\\n",
       "0             NaN             NaN                       NaN   \n",
       "1             NaN             NaN                       NaN   \n",
       "2             NaN             NaN                       NaN   \n",
       "3             NaN             NaN                       NaN   \n",
       "4             NaN             NaN                       NaN   \n",
       "\n",
       "   return_on_average_assets  return_on_average_equity  \\\n",
       "0                       NaN                       NaN   \n",
       "1                       NaN                       NaN   \n",
       "2                       NaN                       NaN   \n",
       "3                       NaN                       NaN   \n",
       "4                       NaN                       NaN   \n",
       "\n",
       "   return_on_invested_capital  return_on_sales  \n",
       "0                         NaN              NaN  \n",
       "1                         NaN              NaN  \n",
       "2                         NaN              NaN  \n",
       "3                         NaN              NaN  \n",
       "4                         NaN              NaN  "
      ]
     },
     "execution_count": 1,
     "metadata": {},
     "output_type": "execute_result"
    }
   ],
   "source": [
    "import pandas as pd\n",
    "import numpy as np\n",
    "import datetime \n",
    "import yfinance as yf\n",
    "import warnings\n",
    "warnings.filterwarnings('ignore')\n",
    "\n",
    "equity_df = pd.read_csv(\"C:/Users/lbianculli/dev/us_equities/python_processes/all_fundamentals_macro2.csv\").drop([\"Unnamed: 0\", \"Unnamed: 0.1\"], axis=1)\n",
    "equity_df[\"date\"] = equity_df[\"date_dt_x\"].astype(str)\n",
    "equity_df[\"date_dt\"] = pd.to_datetime(equity_df[\"date\"], format='%Y-%m-%d')\n",
    "\n",
    "# some of our data is not filled in\n",
    "equity_df[[\"average_assets\", \"average_equity\", \"invested_capital_average\", \"return_on_average_assets\", \n",
    "                            \"return_on_average_equity\", \"return_on_invested_capital\", \"return_on_sales\"]].head()"
   ]
  },
  {
   "cell_type": "code",
   "execution_count": 2,
   "metadata": {},
   "outputs": [],
   "source": [
    "# drop these as they have bad data\n",
    "equity_df = equity_df.drop([\"average_assets\", \"average_equity\", \"invested_capital_average\", \"return_on_average_assets\", \n",
    "                            \"return_on_average_equity\", \"return_on_invested_capital\", \"return_on_sales\"], axis=1)"
   ]
  },
  {
   "cell_type": "markdown",
   "metadata": {},
   "source": [
    "## Setup additional Data points\n",
    "Our data comes prepared with quite a few fundamental measures. We will supplement that by adding a few of our own, including basic calculations like leverage and roe."
   ]
  },
  {
   "cell_type": "code",
   "execution_count": 3,
   "metadata": {},
   "outputs": [
    {
     "data": {
      "text/plain": [
       "((40403, 165), (42729, 165))"
      ]
     },
     "execution_count": 3,
     "metadata": {},
     "output_type": "execute_result"
    }
   ],
   "source": [
    "# basic calcs\n",
    "equity_df[\"leverage\"] = equity_df[\"total_assets\"] / equity_df[\"shareholders_equity\"]\n",
    "equity_df[\"buyback_yield\"] = -equity_df[\"issuance_purchase_of_equity_shares\"] / equity_df[\"market_capitalization\"]\n",
    "equity_df[\"total_yield\"] = equity_df[\"buyback_yield\"] + equity_df[\"dividend_yield\"]\n",
    "equity_df[\"roe\"] = equity_df['earnings_before_interest_taxes_depreciation_amortization_ebitda'] / equity_df[\"shareholders_equity\"].shift(1)\n",
    "equity_df[\"roa\"] = equity_df['earnings_before_interest_taxes_depreciation_amortization_ebitda'] / equity_df[\"total_assets\"].shift(1)\n",
    "equity_df[\"asset_turnover\"] = equity_df[\"revenues_usd\"] / equity_df[\"total_assets\"]\n",
    "equity_df[\"debt_to_assets\"] = equity_df[\"total_debt\"] / equity_df[\"total_assets\"]\n",
    "\n",
    "# value factors\n",
    "equity_df = equity_df.replace(np.inf, np.nan)\n",
    "equity_df = equity_df.replace(-np.inf, np.nan)\n",
    "equity_df = equity_df.fillna(equity_df.mean())\n",
    "\n",
    "# Other factors of interest\n",
    "equity_df[\"intangibles_to_assets\"] = equity_df[\"goodwill_and_intangible_assets\"] / equity_df[\"total_assets\"]\n",
    "equity_df[\"rnd_to_revenue\"] = equity_df[\"research_and_development_expense\"] / equity_df[\"revenues\"]\n",
    "equity_df[\"rnd_to_revenue\"] = equity_df[\"rnd_to_revenue\"].replace(np.nan, 0.0)\n",
    "\n",
    "# equity_df = equity_df.dropna()\n",
    "equity_df.dropna().shape, equity_df.shape"
   ]
  },
  {
   "cell_type": "markdown",
   "metadata": {},
   "source": [
    "### Handling outliers\n",
    "\n",
    "First we will look to remove outstanding outliers in the returns columns. To do this, we will use boundaries based on the IQR, which is the difference between Q3 and Q1. Then we are going to use an IsolationForest to locate and remove outliers in feature space. \n",
    "\n",
    "Link to the IsolationForest paper: https://cs.nju.edu.cn/zhouzh/zhouzh.files/publication/icdm08b.pdf"
   ]
  },
  {
   "cell_type": "code",
   "execution_count": 4,
   "metadata": {},
   "outputs": [
    {
     "name": "stdout",
     "output_type": "stream",
     "text": [
      "Removed 4852 outliers.\n"
     ]
    }
   ],
   "source": [
    "# calculate first and third quantile for desired measures\n",
    "log_ret_q1 = equity_df['1mo_log_rets'].quantile(0.25)\n",
    "log_ret_q3 = equity_df['1mo_log_rets'].quantile(0.75)\n",
    "fwd_log_ret_q1 = equity_df['1mo_fwd_log_rets'].quantile(0.25)\n",
    "fwd_log_ret_q3 = equity_df['1mo_fwd_log_rets'].quantile(0.75)\n",
    "\n",
    "# get IQR\n",
    "log_ret_iqr = log_ret_q3 - log_ret_q1\n",
    "fwd_log_ret_iqr = fwd_log_ret_q3 - fwd_log_ret_q1\n",
    "\n",
    "# locate outliers based on 1.5 * IQR\n",
    "equity_df[\"log_outlier\"] = np.where((equity_df[\"1mo_log_rets\"] < (log_ret_q1 - 1.5*log_ret_iqr)) | \\\n",
    "                                    (equity_df[\"1mo_log_rets\"] > (log_ret_q3 + 1.5*log_ret_iqr)), 1, 0)\n",
    "\n",
    "equity_df[\"fwd_log_outlier\"] = np.where((equity_df[\"1mo_fwd_log_rets\"] < (fwd_log_ret_q1 - 1.5*fwd_log_ret_iqr)) | \\\n",
    "                                    (equity_df[\"1mo_fwd_log_rets\"] > (fwd_log_ret_q3 + 1.5*fwd_log_ret_iqr)), 1, 0)\n",
    "\n",
    "# remove outliers\n",
    "print(f\"Removed {equity_df.shape[0] - equity_df[(equity_df['log_outlier'] == 0) & (equity_df['fwd_log_outlier'] == 0)].shape[0]} outliers.\")\n",
    "equity_df = equity_df[(equity_df[\"log_outlier\"] == 0) & (equity_df[\"fwd_log_outlier\"] == 0)]\n",
    "equity_df[\"rnd_to_revenue\"] = equity_df[\"rnd_to_revenue\"].replace(np.nan, 0.0)\n",
    "\n",
    "equity_df = equity_df.replace(np.inf, np.nan)\n",
    "equity_df[\"rnd_to_revenue\"] = equity_df[\"rnd_to_revenue\"].replace(np.nan, 0.0)\n"
   ]
  },
  {
   "cell_type": "code",
   "execution_count": 5,
   "metadata": {},
   "outputs": [],
   "source": [
    "# Keep only the columns we need going forward\n",
    "columns_to_keep = [\"period_x\", 'date_dt', 'ticker_x', 'id', 'volatility', '1mo_rets', '1mo_fwd_rets', '1mo_log_rets', \n",
    "                   '1mo_fwd_log_rets', \"1yr_rets\", \"1yr_log_rets\",\n",
    "                   \"accumulated_other_comprehensive_income\", \"total_assets\", \"current_assets\", \"assets_non-current\",\n",
    "                   \"asset_turnover\", \"book_value_per_share\", \"capital_expenditure\", \"cash_and_equivalents\", \n",
    "                   \"cost_of_revenue\", \"consolidated_income\", \"current_ratio\",\n",
    "                   \"debt_to_equity_ratio\", \"total_debt\", \"debt_current\", \"debt_non-current\",  \n",
    "                   \"deferred_revenue\", \"depreciation_amortization_accretion\", \"deposit_liabilities\", \"dividend_yield\", \n",
    "                   \"dividends_per_basic_common_share\", \"earning_before_interest_taxes_ebit\", \n",
    "                   \"earnings_before_interest_taxes_depreciation_amortization_ebitda\", \"ebitda_margin\",\n",
    "                   \"earnings_before_tax\", \"earnings_per_basic_share\", \"earnings_per_diluted_share\", \n",
    "                   \"enterprise_value\", \"enterprise_value_over_ebit\", \"enterprise_value_over_ebitda\", \"free_cash_flow\", \n",
    "                   \"free_cash_flow_per_share\",\"gross_profit\", \"gross_margin\", \n",
    "                   \"goodwill_and_intangible_assets\", \"interest_expense\", \"invested_capital\", \"inventory\", \"investments\",\n",
    "                   \"investments_current\", \"investments_non-current\", \"total_liabilities\", \"current_liabilities\", \n",
    "                   \"liabilities_non-current\", \"net_cash_flow_/_change_in_cash_cash_equivalents\", \n",
    "                   \"net_cash_flow_-_business_acquisitions_and_disposals\", \"issuance_purchase_of_equity_shares\",\n",
    "                   \"issuance_repayment_of_debt_securities_\", \"payment_of_dividends_other_cash_distributions___\", \n",
    "                   \"net_cash_flow_from_financing\", \"net_cash_flow_from_investing\",\n",
    "                   \"net_cash_flow_-_investment_acquisitions_and_disposals\", \"net_cash_flow_from_operations\", \n",
    "                   \"effect_of_exchange_rate_changes_on_cash_\", \"net_income\", \"net_income_common_stock\", \n",
    "                   \"net_loss_income_from_discontinued_operations\", \n",
    "                   \"net_income_to_non-controlling_interests\", \"profit_margin\", \"operating_expenses\", \"operating_income\", \n",
    "                   \"trade_and_non-trade_payables\", \"payout_ratio\", \"price_to_book_value\", \"price_earnings_damodaran_method\",\n",
    "                   \"price_to_earnings_ratio\", \"property_plant_equipment_net\", \"preferred_dividends_income_statement_impact\",\n",
    "                   \"price_sales_damodaran_method\", \"price_to_sales_ratio\", \n",
    "                   \"trade_and_non-trade_receivables\", \"accumulated_retained_earnings_deficit\", \"revenues\", \n",
    "                   \"research_and_development_expense\", \"share_based_compensation\", \n",
    "                   \"selling_general_and_administrative_expense\", \"weighted_average_shares\", \"weighted_average_shares_diluted\", \"sales_per_share\", \n",
    "                   \"tangible_asset_value\", \"tax_assets\", \"income_tax_expense\", \"tax_liabilities\", \n",
    "                   \"tangible_assets_book_value_per_share\", \"working_capital\", \"capex_std\",\"earnings_std\", \n",
    "                   \"gdp_change\",\"unemp_ma_diff\",\"confidence\",\"MICH\",\"bus_credit_change\",\"con_credit_change\",\n",
    "                   \"pce_change\",\"Adj Close\",\"vix_change\",\"inverted\",\"buyback_yield\", \"total_yield\", \"leverage\", \n",
    "                   \"roe\", \"roa\", \"debt_to_assets\", \"tp\", \"tp_last_yr\", \"intangibles_to_assets\", \"rnd_to_revenue\", \n",
    "                   \"market_capitalization\"]\n",
    "\n",
    "equity_df = equity_df[columns_to_keep]\n",
    "\n",
    "# rename some columns\n",
    "equity_df.columns = [\"period\", 'date_dt', 'ticker', 'id', 'volatility', '1mo_rets', '1mo_fwd_rets', '1mo_log_rets', \n",
    "                     '1mo_fwd_log_rets', \"1yr_rets\", \"1yr_log_rets\",\n",
    "                   \"other_comprehensive_income\", \"total_assets\", \"current_assets\", \"non_current_assets\",\n",
    "                   \"asset_turnover\", \"book_value_per_share\", \"capital_expenditure\", \"cash_and_equivalents\", \n",
    "                   \"cost_of_revenue\", \"consolidated_income\", \"current_ratio\",\n",
    "                   \"debt_to_equity\", \"total_debt\", \"debt_current\", \"debt_non-current\",  \n",
    "                   \"deferred_revenue\", \"depreciation_amortization_accretion\", \"deposit_liabilities\", \"dividend_yield\", \n",
    "                   \"dividends_per_basic_common_share\", \"ebit\", \n",
    "                   \"earnings_before_interest_taxes_depreciation_amortization_ebitda\", \"ebitda_margin\",\n",
    "                   \"earnings_before_tax\", \"earnings_per_basic_share\", \"earnings_per_diluted_share\", \n",
    "                   \"ev\", \"ev_to_ebit\", \"ev_to_ebitda\", \"free_cash_flow\", \n",
    "                   \"fcf_per_share\",\"gross_profit\", \"gross_margin\", \n",
    "                   \"goodwill_and_intangible_assets\", \"interest_expense\", \"invested_capital\", \"inventory\", \"investments\",\n",
    "                   \"investments_current\", \"investments_non-current\", \"total_liabilities\", \"current_liabilities\", \n",
    "                   \"liabilities_non-current\", \"net_cash_flow_/_change_in_cash_cash_equivalents\", \n",
    "                   \"business_acquisitions_and_disposals\", \"issuance_purchase_of_equity_shares\",\n",
    "                   \"issuance_repayment_of_debt_securities_\", \"payment_of_dividends_other_cash_distributions\", \n",
    "                   \"net_cash_flow_from_financing\", \"net_cash_flow_from_investing\",\n",
    "                   \"net_cash_flow_-_investment_acquisitions_and_disposals\", \"net_cash_flow_from_operations\", \n",
    "                   \"effect_of_exchange_rate_changes_on_cash_\", \"net_income\", \"net_income_common_stock\", \n",
    "                   \"netincome_from_discontinued_operations\", \n",
    "                   \"net_income_to_non-controlling_interests\", \"profit_margin\", \"operating_expenses\", \"operating_income\", \n",
    "                   \"trade_and_non-trade_payables\", \"payout_ratio\", \"price_to_book_value\", \"price_earnings_damodaran_method\",\n",
    "                   \"price_to_earnings_ratio\", \"property_plant_equipment_net\", \"preferred_dividends_income_statement_impact\",\n",
    "                   \"price_sales_damodaran_method\", \"price_to_sales_ratio\", \n",
    "                   \"trade_and_non-trade_receivables\", \"accumulated_retained_earnings_deficit\", \"revenue\", \n",
    "                   \"research_and_development_expense\", \"share_based_compensation\", \n",
    "                   \"sga_expense\", \"weighted_average_shares\", \"weighted_average_shares_diluted\", \"sales_per_share\", \n",
    "                   \"tangible_asset_value\", \"tax_assets\", \"income_tax_expense\", \"tax_liabilities\",\n",
    "                   \"tangible_assets_book_value_per_share\", \"working_capital\", \"capex_std\",\"earnings_std\",\n",
    "                   \"gdp_change\",\"unemp_ma_diff\",\"confidence\",\"MICH\",\"bus_credit_change\",\"con_credit_change\",\n",
    "                   \"pce_change\",\"vix_close\",\"vix_change\",\"inverted\",\"buyback_yield\", \"total_yield\", \"leverage\", \n",
    "                   \"roe\", \"roa\", \"debt_to_assets\", \"tp\", \"tp_last_yr\", \"intangibles_to_assets\", \"rnd_to_revenue\", \n",
    "                    \"market_cap\"]"
   ]
  },
  {
   "cell_type": "code",
   "execution_count": 6,
   "metadata": {},
   "outputs": [
    {
     "name": "stdout",
     "output_type": "stream",
     "text": [
      "Percent outliers: 2.41%\n"
     ]
    }
   ],
   "source": [
    "### handling feature anomalies\n",
    "from sklearn.ensemble import IsolationForest\n",
    "\n",
    "# instantiate classifier and get predictions to locate outliers\n",
    "clf = IsolationForest(n_estimators=500, n_jobs=-1, random_state=10)\n",
    "preds = clf.fit_predict(equity_df.drop([\"period\", \"date_dt\", \"ticker\", \"id\"], axis=1))\n",
    "equity_df[\"outlier\"] = preds\n",
    "n_outliers = equity_df['outlier'].value_counts()[-1]\n",
    "clean_equity_data = equity_df.loc[equity_df[\"outlier\"] == 1]\n",
    "\n",
    "print(f\"Percent outliers: {n_outliers/equity_df.shape[0]*100:.2f}%\")"
   ]
  },
  {
   "cell_type": "code",
   "execution_count": 7,
   "metadata": {},
   "outputs": [
    {
     "data": {
      "text/plain": [
       "(36964, 119)"
      ]
     },
     "execution_count": 7,
     "metadata": {},
     "output_type": "execute_result"
    }
   ],
   "source": [
    "# clean_equity_data.drop([\"outlier\"], axis=1).dropna().to_csv(\"C:/Users/lbianculli/dev/us_equities/us_data_final.csv\")\n",
    "clean_equity_data.drop([\"outlier\"], axis=1).dropna().to_csv(\"C:/Users/lbianculli/dev/us_equities/python_processes/us_data_final2.csv\")\n",
    "\n",
    "clean_equity_data.shape"
   ]
  },
  {
   "cell_type": "markdown",
   "metadata": {},
   "source": [
    "### We handled the bad data, added additional metrics, and removed outliers. Next we will move onto premodeling\n"
   ]
  }
 ],
 "metadata": {
  "kernelspec": {
   "display_name": "Python 3",
   "language": "python",
   "name": "python3"
  },
  "language_info": {
   "codemirror_mode": {
    "name": "ipython",
    "version": 3
   },
   "file_extension": ".py",
   "mimetype": "text/x-python",
   "name": "python",
   "nbconvert_exporter": "python",
   "pygments_lexer": "ipython3",
   "version": "3.7.9"
  }
 },
 "nbformat": 4,
 "nbformat_minor": 4
}
