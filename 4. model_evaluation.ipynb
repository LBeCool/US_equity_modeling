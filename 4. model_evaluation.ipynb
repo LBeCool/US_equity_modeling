{
 "cells": [
  {
   "cell_type": "markdown",
   "metadata": {},
   "source": [
    "## In this notebook we will evluate our model\n",
    "We will make use of various SKLearn-supported metrics, such as the F1 and ROC/AUC scores."
   ]
  },
  {
   "cell_type": "code",
   "execution_count": 1,
   "metadata": {},
   "outputs": [],
   "source": [
    "import pandas as pd\n",
    "import numpy as np\n",
    "from joblib import load \n",
    "from sklearn import metrics\n",
    "import pickle\n",
    "import seaborn as sns\n",
    "import matplotlib.pyplot as plt\n",
    "import tensorflow as tf\n",
    "from sklearn.metrics import classification_report\n",
    "\n",
    "with open(\"C:/Users/lbianculli/dev/us_equities/models/sk_random_forest_final.f\", \"rb\") as f:\n",
    "    model = load(f)\n",
    "    \n",
    "with open(\"C:/Users/lbianculli/dev/us_equities/models/sk_random_forest_final.f\", \"wb\") as f:\n",
    "    pickle.dump(model, f)\n",
    "    \n",
    "with open(\"C:/Users/lbianculli/dev/us_equities/models/train_data.p\", \"rb\") as f:\n",
    "    train_data, test_data, holdout_data, train_labels, test_labels, holdout_labels = pickle.load(f)\n",
    "    \n",
    "current_data = pd.read_csv(\"current_tickers.csv\").drop([\"Unnamed: 0\"], axis=1)"
   ]
  },
  {
   "cell_type": "markdown",
   "metadata": {},
   "source": [
    "Create a summary function that returns an evaluation of our model and returns the optimal probability threshold for calculating the ROC/AUC score."
   ]
  },
  {
   "cell_type": "code",
   "execution_count": 2,
   "metadata": {},
   "outputs": [],
   "source": [
    "def summary(fit_clf, test_data, test_labels):\n",
    "    \"\"\" \n",
    "    Compile classification summary for a trained classifier\n",
    "    fit_clf: trained SKLearn classifier\n",
    "    test_data: test data with same number of features as data used to train the fit_clf\n",
    "    test_labels: labels corresponding to test_data\n",
    "    \n",
    "    returns: \n",
    "    best ROC threshold according to Youden’s J statistic and probabilities according to 50/50 threshold\n",
    "    \"\"\"\n",
    "    plt.rcParams['figure.figsize'] = (8.0, 5.0)\n",
    "\n",
    "    # use model to calculate probs and get baseline probs\n",
    "    probs = fit_clf.predict_proba(test_data)\n",
    "    ns_probs = [0 for _ in range(len(test_labels))]\n",
    "\n",
    "    # keep probabilities for the positive outcome only\n",
    "    probs = probs[:, 1]\n",
    "\n",
    "    # calculate scores\n",
    "    ns_auc = metrics.roc_auc_score(test_labels, ns_probs)\n",
    "    clf_auc = metrics.roc_auc_score(test_labels, probs)\n",
    "\n",
    "    # plot the roc curve for the model\n",
    "    fpr, tpr, thresholds = metrics.roc_curve(test_labels, probs)\n",
    "    ns_fpr, ns_tpr, _ = metrics.roc_curve(test_labels, ns_probs)\n",
    "    \n",
    "    # threshold tuning\n",
    "    j = tpr - fpr\n",
    "    idx = np.argmax(j)\n",
    "\n",
    "    plt.plot(ns_fpr, ns_tpr, linestyle='--', label='No Skill')\n",
    "    plt.plot(fpr, tpr, marker='.', label='Classifier', alpha=.25)\n",
    "    plt.scatter(fpr[idx], tpr[idx], marker=\"o\", color=\"black\", label=\"best\")\n",
    "\n",
    "    plt.xlabel('False Positive Rate')\n",
    "    plt.ylabel('True Positive Rate')\n",
    "    plt.legend()\n",
    "    plt.show()\n",
    "\n",
    "    # summary stats\n",
    "    print(f\"No Skill ROC AUC = {ns_auc:.2f}\")\n",
    "    print(f\"Classifier ROC AUC = {clf_auc:.2f}\")\n",
    "    print(f\"Best Threshold: {thresholds[idx]:.2f}\\n\")\n",
    "\n",
    "    preds = fit_clf.predict(test_data)\n",
    "    acc = metrics.accuracy_score(test_labels, preds)\n",
    "    print(f\"Classifier Accuracy: {acc*100:.1f}%\")\n",
    "\n",
    "    f1 = metrics.f1_score(test_labels, preds)\n",
    "    print(f\"Classifier F1: {f1*100:.1f}%\\n\")\n",
    "\n",
    "    # confusion matrix\n",
    "    print(classification_report(test_labels, preds))\n",
    "    \n",
    "    return thresholds[idx], probs\n",
    "\n",
    "def evaluate_threshold(test_probs, test_labels, threshold=.5):\n",
    "    \"\"\" \n",
    "    Evaluate various classification scores of a classifier at a given ROC threshold\n",
    "    test_probs: probabilities assigned by classifer to test data labels\n",
    "    test_labels: labels corresponding to test_probs\n",
    "    threshold: threshold according to which the predicted probabilities will be judged and new evaluation produced.\n",
    "    \n",
    "    returns: \n",
    "    New predictions according to chosen threshold\n",
    "    \"\"\"\n",
    "    thresholded_preds = np.where(test_probs >= threshold, 1, -1).astype(np.int64)\n",
    "    f1 = metrics.f1_score(test_labels, thresholded_preds)\n",
    "    acc = metrics.accuracy_score(test_labels, thresholded_preds)\n",
    "    print(classification_report(test_labels, thresholded_preds))\n",
    "    \n",
    "    return thresholded_preds"
   ]
  },
  {
   "cell_type": "markdown",
   "metadata": {},
   "source": [
    "## Classifier Metrics\n",
    "The primary metrics we are going to explore are accuracy, ROC/AUC score, and F1 score"
   ]
  },
  {
   "cell_type": "code",
   "execution_count": 3,
   "metadata": {},
   "outputs": [
    {
     "data": {
      "image/png": "[encoded data removed]",
      "text/plain": [
       "<Figure size 576x360 with 1 Axes>"
      ]
     },
     "metadata": {
      "needs_background": "light"
     },
     "output_type": "display_data"
    },
    {
     "name": "stdout",
     "output_type": "stream",
     "text": [
      "No Skill ROC AUC = 0.50\n",
      "Classifier ROC AUC = 0.95\n",
      "Best Threshold: 0.24\n",
      "\n",
      "Classifier Accuracy: 89.8%\n",
      "Classifier F1: 71.2%\n",
      "\n",
      "              precision    recall  f1-score   support\n",
      "\n",
      "          -1       0.90      0.98      0.94      4079\n",
      "           1       0.87      0.60      0.71      1077\n",
      "\n",
      "    accuracy                           0.90      5156\n",
      "   macro avg       0.89      0.79      0.83      5156\n",
      "weighted avg       0.90      0.90      0.89      5156\n",
      "\n"
     ]
    }
   ],
   "source": [
    "best_threshold, test_probs = summary(model, test_data, test_labels)"
   ]
  },
  {
   "cell_type": "markdown",
   "metadata": {},
   "source": [
    "Normally, we would use the threshold prboability returned by this function to define new labels. However, we are primarily concerned with the precision of our model (how many of our positive predictions are correct); we want to limit false negatives. More specifically, for those we predict positive, how many do we correctly predict? We could improve precision by adjusting the threshold up (e.g. from .5 to .55). This would likely negatively affect evaluation metrics. Let's take a look."
   ]
  },
  {
   "cell_type": "code",
   "execution_count": 11,
   "metadata": {},
   "outputs": [
    {
     "name": "stdout",
     "output_type": "stream",
     "text": [
      "              precision    recall  f1-score   support\n",
      "\n",
      "          -1       0.89      0.99      0.94      4079\n",
      "           1       0.91      0.55      0.68      1077\n",
      "\n",
      "    accuracy                           0.89      5156\n",
      "   macro avg       0.90      0.77      0.81      5156\n",
      "weighted avg       0.90      0.89      0.88      5156\n",
      "\n"
     ]
    }
   ],
   "source": [
    "new_preds = evaluate_threshold(test_probs, test_labels, threshold=.55)"
   ]
  },
  {
   "cell_type": "markdown",
   "metadata": {},
   "source": [
    "### Testing holdout data\n",
    "Finally, after we are comfortable with the test scores and follow-up metrics, we can use our holdout data, which should not have been touched up to this point. If this score looks good, we can be confident in our model"
   ]
  },
  {
   "cell_type": "code",
   "execution_count": 12,
   "metadata": {},
   "outputs": [
    {
     "name": "stdout",
     "output_type": "stream",
     "text": [
      "Holdout Accuracy: 90.0%\n"
     ]
    }
   ],
   "source": [
    "holdout_preds = model.predict(holdout_data)\n",
    "holdout_acc = metrics.accuracy_score(holdout_preds, holdout_labels)\n",
    "print(f\"Holdout Accuracy: {holdout_acc*100:.1f}%\")"
   ]
  },
  {
   "cell_type": "markdown",
   "metadata": {},
   "source": [
    "## Evaluate Quarter Returns\n",
    "Now that we have done the premodeling and postmodeling steps, let's evaluate how the securities that our model chose would have performed"
   ]
  },
  {
   "cell_type": "code",
   "execution_count": 13,
   "metadata": {},
   "outputs": [],
   "source": [
    "import yfinance as yf\n",
    "\n",
    "current_data = current_data.sort_values(\"market_cap\", ascending=False)\n",
    "\n",
    "# get largest and smallest companies to achieve some cap exposure\n",
    "current_tickers = list(current_data.tail(10)[\"ticker\"]) + list(current_data.head(10)[\"ticker\"])\n",
    "\n",
    "# get returns for each ticker\n",
    "#TODO: make date dynamic\n",
    "rets = {}\n",
    "for ticker in current_tickers: \n",
    "    ticker_obj = yf.Ticker(ticker)\n",
    "    ticker_data = ticker_obj.history(start='2021-01-01', end='2021-04-01')\n",
    "    ticker_data[\"rets\"] = ticker_data[\"Close\"].pct_change()\n",
    "    ticker_data = ticker_data.dropna()\n",
    "    cum_rets = (ticker_data[\"rets\"] + 1).cumprod() - 1\n",
    "\n",
    "    rets[ticker] = cum_rets\n",
    "    \n",
    "mean_rets = np.array(list(rets.values()))\n",
    "\n",
    "\n",
    "# get cumulative return of SPY for comparison\n",
    "ticker_obj = yf.Ticker(\"SPY\")\n",
    "spy_data = ticker_obj.history(start='2021-01-1', end='2021-04-1')\n",
    "spy_data[\"rets\"] = spy_data[\"Close\"].pct_change()\n",
    "spy_data = spy_data.dropna()\n",
    "\n",
    "spy_mean_ret = spy_data[\"rets\"].mean()"
   ]
  },
  {
   "cell_type": "code",
   "execution_count": 14,
   "metadata": {},
   "outputs": [
    {
     "name": "stdout",
     "output_type": "stream",
     "text": [
      "SPY returned 7.82%\n",
      "Theoretical Portfolio returned 12.00%\n"
     ]
    }
   ],
   "source": [
    "spy_cum_rets = (spy_data[\"rets\"] + 1).cumprod() - 1\n",
    "spy_cum_rets[-1]\n",
    "\n",
    "print(f\"SPY returned {spy_cum_rets[-1]*100:.2f}%\")\n",
    "print(f\"Theoretical Portfolio returned {np.mean(mean_rets)*100:.2f}%\")"
   ]
  },
  {
   "cell_type": "markdown",
   "metadata": {},
   "source": [
    " "
   ]
  },
  {
   "cell_type": "markdown",
   "metadata": {},
   "source": [
    "It looks like our model performed well. However, this does not guarentee future returns. To be more confident in our model, we should primarily look at two things: backtests and statistical analysis.\n",
    "\n",
    "In the next part of this extended analysis, we will look at the latter."
   ]
  }
 ],
 "metadata": {
  "kernelspec": {
   "display_name": "Python 3",
   "language": "python",
   "name": "python3"
  },
  "language_info": {
   "codemirror_mode": {
    "name": "ipython",
    "version": 3
   },
   "file_extension": ".py",
   "mimetype": "text/x-python",
   "name": "python",
   "nbconvert_exporter": "python",
   "pygments_lexer": "ipython3",
   "version": "3.7.9"
  }
 },
 "nbformat": 4,
 "nbformat_minor": 4
}
